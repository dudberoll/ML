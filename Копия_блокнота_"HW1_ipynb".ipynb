{
  "nbformat": 4,
  "nbformat_minor": 0,
  "metadata": {
    "colab": {
      "provenance": [],
      "collapsed_sections": [],
      "include_colab_link": true
    },
    "kernelspec": {
      "name": "python3",
      "display_name": "Python 3"
    },
    "language_info": {
      "name": "python"
    }
  },
  "cells": [
    {
      "cell_type": "markdown",
      "metadata": {
        "id": "view-in-github",
        "colab_type": "text"
      },
      "source": [
        "<a href=\"https://colab.research.google.com/github/dudberoll/ML/blob/main/%D0%9A%D0%BE%D0%BF%D0%B8%D1%8F_%D0%B1%D0%BB%D0%BE%D0%BA%D0%BD%D0%BE%D1%82%D0%B0_%22HW1_ipynb%22.ipynb\" target=\"_parent\"><img src=\"https://colab.research.google.com/assets/colab-badge.svg\" alt=\"Open In Colab\"/></a>"
      ]
    },
    {
      "cell_type": "markdown",
      "source": [
        "В этом домашнем задании вам предстоит с помощью Pandas ответить на несколько вопросов об этом [датасете](https://archive.ics.uci.edu/ml/datasets/Adult). Все ответы вам предстоит отправить в этой [форме](https://forms.gle/qfVth9BygS4AVJZ47)\n",
        "\n",
        "Чтобы начать надо сохранить этот ноутбук себе на диск (File - Save a copy in Drive) или скачать (File - Download), если вы делаете у себя локально. \n",
        "\n",
        "Скачать нужный датасет можно [тут](https://disk.yandex.ru/d/6WlIXR-y_PObLg)\n",
        "\n",
        "Эта домашняя работа легкая и покрывает лишь некоторую базу, очень советую пройтись по доп.материалам и посмотреть на различные крутые штуки, которые может делать Pandas, Matplotlib или Seaborn. Особенно если вы хотите заниматься анализом данных намного серьезнее.\n",
        "\n",
        "Мягкий дедлайн: 31 октября 23:59 \\\n",
        "Жесткий дедлайн: 7 ноября 23:59"
      ],
      "metadata": {
        "id": "toWVCd21dfOy"
      }
    },
    {
      "cell_type": "code",
      "execution_count": null,
      "metadata": {
        "id": "pNpfcbFddUOU"
      },
      "outputs": [],
      "source": [
        "import numpy as np\n",
        "import pandas as pd\n",
        "import matplotlib.pyplot as plt\n",
        "import seaborn as sns\n",
        "import statistics as st\n",
        "\n",
        "plt.rcParams[\"figure.figsize\"] = (18, 10)"
      ]
    },
    {
      "cell_type": "markdown",
      "source": [
        "**Задание 0: Прочитайте скачанный датасет и выведите его**"
      ],
      "metadata": {
        "id": "gW09gRt_ePVM"
      }
    },
    {
      "cell_type": "code",
      "source": [
        "# Write code here\n",
        "data = pd.read_csv('adult_data.csv')\n",
        "data.head()\n"
      ],
      "metadata": {
        "id": "HhYExiiCeOcO",
        "colab": {
          "base_uri": "https://localhost:8080/",
          "height": 387
        },
        "outputId": "3225ac9f-5ba9-4f83-b6d6-3aea4327d218"
      },
      "execution_count": null,
      "outputs": [
        {
          "output_type": "execute_result",
          "data": {
            "text/plain": [
              "   age         workclass  fnlwgt  education  education-num  \\\n",
              "0   39         State-gov   77516  Bachelors             13   \n",
              "1   50  Self-emp-not-inc   83311  Bachelors             13   \n",
              "2   38           Private  215646    HS-grad              9   \n",
              "3   53           Private  234721       11th              7   \n",
              "4   28           Private  338409  Bachelors             13   \n",
              "\n",
              "       marital-status         occupation   relationship   race     sex  \\\n",
              "0       Never-married       Adm-clerical  Not-in-family  White    Male   \n",
              "1  Married-civ-spouse    Exec-managerial        Husband  White    Male   \n",
              "2            Divorced  Handlers-cleaners  Not-in-family  White    Male   \n",
              "3  Married-civ-spouse  Handlers-cleaners        Husband  Black    Male   \n",
              "4  Married-civ-spouse     Prof-specialty           Wife  Black  Female   \n",
              "\n",
              "   capital-gain  capital-loss  hours-per-week native-country salary  \n",
              "0          2174             0              40  United-States  <=50K  \n",
              "1             0             0              13  United-States  <=50K  \n",
              "2             0             0              40  United-States  <=50K  \n",
              "3             0             0              40  United-States  <=50K  \n",
              "4             0             0              40           Cuba  <=50K  "
            ],
            "text/html": [
              "\n",
              "  <div id=\"df-b7443104-d123-4c4b-92a6-0c7f48c10af0\">\n",
              "    <div class=\"colab-df-container\">\n",
              "      <div>\n",
              "<style scoped>\n",
              "    .dataframe tbody tr th:only-of-type {\n",
              "        vertical-align: middle;\n",
              "    }\n",
              "\n",
              "    .dataframe tbody tr th {\n",
              "        vertical-align: top;\n",
              "    }\n",
              "\n",
              "    .dataframe thead th {\n",
              "        text-align: right;\n",
              "    }\n",
              "</style>\n",
              "<table border=\"1\" class=\"dataframe\">\n",
              "  <thead>\n",
              "    <tr style=\"text-align: right;\">\n",
              "      <th></th>\n",
              "      <th>age</th>\n",
              "      <th>workclass</th>\n",
              "      <th>fnlwgt</th>\n",
              "      <th>education</th>\n",
              "      <th>education-num</th>\n",
              "      <th>marital-status</th>\n",
              "      <th>occupation</th>\n",
              "      <th>relationship</th>\n",
              "      <th>race</th>\n",
              "      <th>sex</th>\n",
              "      <th>capital-gain</th>\n",
              "      <th>capital-loss</th>\n",
              "      <th>hours-per-week</th>\n",
              "      <th>native-country</th>\n",
              "      <th>salary</th>\n",
              "    </tr>\n",
              "  </thead>\n",
              "  <tbody>\n",
              "    <tr>\n",
              "      <th>0</th>\n",
              "      <td>39</td>\n",
              "      <td>State-gov</td>\n",
              "      <td>77516</td>\n",
              "      <td>Bachelors</td>\n",
              "      <td>13</td>\n",
              "      <td>Never-married</td>\n",
              "      <td>Adm-clerical</td>\n",
              "      <td>Not-in-family</td>\n",
              "      <td>White</td>\n",
              "      <td>Male</td>\n",
              "      <td>2174</td>\n",
              "      <td>0</td>\n",
              "      <td>40</td>\n",
              "      <td>United-States</td>\n",
              "      <td>&lt;=50K</td>\n",
              "    </tr>\n",
              "    <tr>\n",
              "      <th>1</th>\n",
              "      <td>50</td>\n",
              "      <td>Self-emp-not-inc</td>\n",
              "      <td>83311</td>\n",
              "      <td>Bachelors</td>\n",
              "      <td>13</td>\n",
              "      <td>Married-civ-spouse</td>\n",
              "      <td>Exec-managerial</td>\n",
              "      <td>Husband</td>\n",
              "      <td>White</td>\n",
              "      <td>Male</td>\n",
              "      <td>0</td>\n",
              "      <td>0</td>\n",
              "      <td>13</td>\n",
              "      <td>United-States</td>\n",
              "      <td>&lt;=50K</td>\n",
              "    </tr>\n",
              "    <tr>\n",
              "      <th>2</th>\n",
              "      <td>38</td>\n",
              "      <td>Private</td>\n",
              "      <td>215646</td>\n",
              "      <td>HS-grad</td>\n",
              "      <td>9</td>\n",
              "      <td>Divorced</td>\n",
              "      <td>Handlers-cleaners</td>\n",
              "      <td>Not-in-family</td>\n",
              "      <td>White</td>\n",
              "      <td>Male</td>\n",
              "      <td>0</td>\n",
              "      <td>0</td>\n",
              "      <td>40</td>\n",
              "      <td>United-States</td>\n",
              "      <td>&lt;=50K</td>\n",
              "    </tr>\n",
              "    <tr>\n",
              "      <th>3</th>\n",
              "      <td>53</td>\n",
              "      <td>Private</td>\n",
              "      <td>234721</td>\n",
              "      <td>11th</td>\n",
              "      <td>7</td>\n",
              "      <td>Married-civ-spouse</td>\n",
              "      <td>Handlers-cleaners</td>\n",
              "      <td>Husband</td>\n",
              "      <td>Black</td>\n",
              "      <td>Male</td>\n",
              "      <td>0</td>\n",
              "      <td>0</td>\n",
              "      <td>40</td>\n",
              "      <td>United-States</td>\n",
              "      <td>&lt;=50K</td>\n",
              "    </tr>\n",
              "    <tr>\n",
              "      <th>4</th>\n",
              "      <td>28</td>\n",
              "      <td>Private</td>\n",
              "      <td>338409</td>\n",
              "      <td>Bachelors</td>\n",
              "      <td>13</td>\n",
              "      <td>Married-civ-spouse</td>\n",
              "      <td>Prof-specialty</td>\n",
              "      <td>Wife</td>\n",
              "      <td>Black</td>\n",
              "      <td>Female</td>\n",
              "      <td>0</td>\n",
              "      <td>0</td>\n",
              "      <td>40</td>\n",
              "      <td>Cuba</td>\n",
              "      <td>&lt;=50K</td>\n",
              "    </tr>\n",
              "  </tbody>\n",
              "</table>\n",
              "</div>\n",
              "      <button class=\"colab-df-convert\" onclick=\"convertToInteractive('df-b7443104-d123-4c4b-92a6-0c7f48c10af0')\"\n",
              "              title=\"Convert this dataframe to an interactive table.\"\n",
              "              style=\"display:none;\">\n",
              "        \n",
              "  <svg xmlns=\"http://www.w3.org/2000/svg\" height=\"24px\"viewBox=\"0 0 24 24\"\n",
              "       width=\"24px\">\n",
              "    <path d=\"M0 0h24v24H0V0z\" fill=\"none\"/>\n",
              "    <path d=\"M18.56 5.44l.94 2.06.94-2.06 2.06-.94-2.06-.94-.94-2.06-.94 2.06-2.06.94zm-11 1L8.5 8.5l.94-2.06 2.06-.94-2.06-.94L8.5 2.5l-.94 2.06-2.06.94zm10 10l.94 2.06.94-2.06 2.06-.94-2.06-.94-.94-2.06-.94 2.06-2.06.94z\"/><path d=\"M17.41 7.96l-1.37-1.37c-.4-.4-.92-.59-1.43-.59-.52 0-1.04.2-1.43.59L10.3 9.45l-7.72 7.72c-.78.78-.78 2.05 0 2.83L4 21.41c.39.39.9.59 1.41.59.51 0 1.02-.2 1.41-.59l7.78-7.78 2.81-2.81c.8-.78.8-2.07 0-2.86zM5.41 20L4 18.59l7.72-7.72 1.47 1.35L5.41 20z\"/>\n",
              "  </svg>\n",
              "      </button>\n",
              "      \n",
              "  <style>\n",
              "    .colab-df-container {\n",
              "      display:flex;\n",
              "      flex-wrap:wrap;\n",
              "      gap: 12px;\n",
              "    }\n",
              "\n",
              "    .colab-df-convert {\n",
              "      background-color: #E8F0FE;\n",
              "      border: none;\n",
              "      border-radius: 50%;\n",
              "      cursor: pointer;\n",
              "      display: none;\n",
              "      fill: #1967D2;\n",
              "      height: 32px;\n",
              "      padding: 0 0 0 0;\n",
              "      width: 32px;\n",
              "    }\n",
              "\n",
              "    .colab-df-convert:hover {\n",
              "      background-color: #E2EBFA;\n",
              "      box-shadow: 0px 1px 2px rgba(60, 64, 67, 0.3), 0px 1px 3px 1px rgba(60, 64, 67, 0.15);\n",
              "      fill: #174EA6;\n",
              "    }\n",
              "\n",
              "    [theme=dark] .colab-df-convert {\n",
              "      background-color: #3B4455;\n",
              "      fill: #D2E3FC;\n",
              "    }\n",
              "\n",
              "    [theme=dark] .colab-df-convert:hover {\n",
              "      background-color: #434B5C;\n",
              "      box-shadow: 0px 1px 3px 1px rgba(0, 0, 0, 0.15);\n",
              "      filter: drop-shadow(0px 1px 2px rgba(0, 0, 0, 0.3));\n",
              "      fill: #FFFFFF;\n",
              "    }\n",
              "  </style>\n",
              "\n",
              "      <script>\n",
              "        const buttonEl =\n",
              "          document.querySelector('#df-b7443104-d123-4c4b-92a6-0c7f48c10af0 button.colab-df-convert');\n",
              "        buttonEl.style.display =\n",
              "          google.colab.kernel.accessAllowed ? 'block' : 'none';\n",
              "\n",
              "        async function convertToInteractive(key) {\n",
              "          const element = document.querySelector('#df-b7443104-d123-4c4b-92a6-0c7f48c10af0');\n",
              "          const dataTable =\n",
              "            await google.colab.kernel.invokeFunction('convertToInteractive',\n",
              "                                                     [key], {});\n",
              "          if (!dataTable) return;\n",
              "\n",
              "          const docLinkHtml = 'Like what you see? Visit the ' +\n",
              "            '<a target=\"_blank\" href=https://colab.research.google.com/notebooks/data_table.ipynb>data table notebook</a>'\n",
              "            + ' to learn more about interactive tables.';\n",
              "          element.innerHTML = '';\n",
              "          dataTable['output_type'] = 'display_data';\n",
              "          await google.colab.output.renderOutput(dataTable, element);\n",
              "          const docLink = document.createElement('div');\n",
              "          docLink.innerHTML = docLinkHtml;\n",
              "          element.appendChild(docLink);\n",
              "        }\n",
              "      </script>\n",
              "    </div>\n",
              "  </div>\n",
              "  "
            ]
          },
          "metadata": {},
          "execution_count": 3
        }
      ]
    },
    {
      "cell_type": "markdown",
      "source": [],
      "metadata": {
        "id": "ddj7WK7bOKrC"
      }
    },
    {
      "cell_type": "markdown",
      "source": [],
      "metadata": {
        "id": "TFT9vTusN_af"
      }
    },
    {
      "cell_type": "markdown",
      "source": [],
      "metadata": {
        "id": "VrveTEz2OC2p"
      }
    },
    {
      "cell_type": "markdown",
      "source": [
        "**Задание 1: Найдите количество мужчин и количество женщин в датасете**"
      ],
      "metadata": {
        "id": "JVQGbUBselow"
      }
    },
    {
      "cell_type": "code",
      "source": [
        "# Write code here\n",
        "data['sex'].value_counts()"
      ],
      "metadata": {
        "id": "uAv60WaKelCu",
        "colab": {
          "base_uri": "https://localhost:8080/"
        },
        "outputId": "aa48edf5-2979-422e-d073-75dd836fb634"
      },
      "execution_count": null,
      "outputs": [
        {
          "output_type": "execute_result",
          "data": {
            "text/plain": [
              "Male      21790\n",
              "Female    10771\n",
              "Name: sex, dtype: int64"
            ]
          },
          "metadata": {},
          "execution_count": 66
        }
      ]
    },
    {
      "cell_type": "markdown",
      "source": [
        "**Задание 2: Найдите средний возраст мужчин**"
      ],
      "metadata": {
        "id": "Y06yOKbjeyLW"
      }
    },
    {
      "cell_type": "code",
      "source": [
        "# Write code here\n",
        "data_male = data[data['sex'] == 'Male'].copy()\n",
        "data_male['age'].mean()\n",
        "np.mean(data_male)"
      ],
      "metadata": {
        "id": "1e_Iem6_e4QO",
        "colab": {
          "base_uri": "https://localhost:8080/"
        },
        "outputId": "b28ed96a-935f-43f6-b6cf-85b36d116f56"
      },
      "execution_count": null,
      "outputs": [
        {
          "output_type": "execute_result",
          "data": {
            "text/plain": [
              "count    21790.000000\n",
              "mean        39.433547\n",
              "std         13.370630\n",
              "min         17.000000\n",
              "25%         29.000000\n",
              "50%         38.000000\n",
              "75%         48.000000\n",
              "max         90.000000\n",
              "Name: age, dtype: float64"
            ]
          },
          "metadata": {},
          "execution_count": 5
        }
      ]
    },
    {
      "cell_type": "markdown",
      "source": [
        "**Задание 3: Найдите процент людей, которые являются гражданами Тайваня (Taiwan)**"
      ],
      "metadata": {
        "id": "9_cZ8oZue6Av"
      }
    },
    {
      "cell_type": "code",
      "source": [
        "# Write code here\n",
        "\n",
        "df1 = data[data['native-country'] == 'Taiwan']\n",
        "print((df1.count()/data.count()*100.0)['age'])\n"
      ],
      "metadata": {
        "id": "pSmTBDHyfJ2n",
        "colab": {
          "base_uri": "https://localhost:8080/"
        },
        "outputId": "6b6c642b-ea5b-4b8a-fa63-5728107bdfcb"
      },
      "execution_count": null,
      "outputs": [
        {
          "output_type": "stream",
          "name": "stdout",
          "text": [
            "0.1566290961579804\n"
          ]
        }
      ]
    },
    {
      "cell_type": "markdown",
      "source": [
        "**Задание 4: Найдите среднее значение возраста для людей, которые зарабатывают >50K**"
      ],
      "metadata": {
        "id": "5iEMiKIEfLiE"
      }
    },
    {
      "cell_type": "code",
      "source": [
        "# Write code here\n",
        "data4 = data[data['salary'] == '>50K']\n",
        "np.mean(data4['age'])\n",
        "\n"
      ],
      "metadata": {
        "id": "mNNWysqbfZRX",
        "colab": {
          "base_uri": "https://localhost:8080/"
        },
        "outputId": "6497292a-9352-48e4-a092-677053c41ee9"
      },
      "execution_count": null,
      "outputs": [
        {
          "output_type": "execute_result",
          "data": {
            "text/plain": [
              "44.24984058155847"
            ]
          },
          "metadata": {},
          "execution_count": 11
        }
      ]
    },
    {
      "cell_type": "markdown",
      "source": [
        "**Задание 5: Найдите стандартное отклонение возраста для людей, которые зарабатывают >50K**"
      ],
      "metadata": {
        "id": "VIm2T6VjfZ_n"
      }
    },
    {
      "cell_type": "code",
      "source": [
        "# Write code here\n",
        "#st.stdev(data['age'])\n",
        "np.std(data['age'])"
      ],
      "metadata": {
        "id": "mYZ_ZNzHfgC2",
        "colab": {
          "base_uri": "https://localhost:8080/"
        },
        "outputId": "8011dfde-6f26-4cad-ca18-7907e8766c8e"
      },
      "execution_count": null,
      "outputs": [
        {
          "output_type": "execute_result",
          "data": {
            "text/plain": [
              "13.640223092304275"
            ]
          },
          "metadata": {},
          "execution_count": 65
        }
      ]
    },
    {
      "cell_type": "markdown",
      "source": [
        "**Задание 6: Проверьте, правда ли что все люди, которые зарабытвают >50K, имеют образование Bachelors+**"
      ],
      "metadata": {
        "id": "QfKb8L3Hfg5W"
      }
    },
    {
      "cell_type": "code",
      "source": [
        "# Write code here\n",
        "data6 = data[data['salary'] == '>50K'].copy()\n",
        "if (data6[data6['education-num'] >= 14 ].count()['age']) == data6.count()['age']:\n",
        "  print('True')\n",
        "else:\n",
        "  print('false')"
      ],
      "metadata": {
        "id": "VG-mO_Jxf6PD",
        "colab": {
          "base_uri": "https://localhost:8080/"
        },
        "outputId": "1e6ce1dd-173e-4189-fa2c-6acdf2dadb21"
      },
      "execution_count": null,
      "outputs": [
        {
          "output_type": "stream",
          "name": "stdout",
          "text": [
            "false\n"
          ]
        }
      ]
    },
    {
      "cell_type": "markdown",
      "source": [
        "**Задание 7: Сколько человек, работающих 40 часов и являющихся гражданами США (United-States), зарабатывают <=50K**"
      ],
      "metadata": {
        "id": "YNy1oplUgury"
      }
    },
    {
      "cell_type": "code",
      "source": [
        "# Write code here\n",
        "data7 = data[(data['hours-per-week'] == 40) & (data.salary == '<=50K') & (data['native-country'] == 'United-States')]\n",
        "len(data7)\n"
      ],
      "metadata": {
        "id": "silJuRj4glAH",
        "colab": {
          "base_uri": "https://localhost:8080/"
        },
        "outputId": "f340fdac-5cd1-4add-bf50-4f2754c0693d"
      },
      "execution_count": null,
      "outputs": [
        {
          "output_type": "execute_result",
          "data": {
            "text/plain": [
              "10493"
            ]
          },
          "metadata": {},
          "execution_count": 25
        }
      ]
    },
    {
      "cell_type": "markdown",
      "source": [
        "**Задание 8: Теперь чуть сложнее. Давайте найдем максимальное количество часов в неделю (hours-per-week), посмотрим, сколько человек работают столько времени в неделю, а потом посмотрим, сколько человек зарабатывают <50K**"
      ],
      "metadata": {
        "id": "nmZyuqFSoRvG"
      }
    },
    {
      "cell_type": "code",
      "source": [
        "# Write code here\n",
        "hour = data['hours-per-week'].max()\n",
        "data8 = data[(data['hours-per-week'] == hour) & (data['salary'] == '<=50K')]\n",
        "data8.count()"
      ],
      "metadata": {
        "id": "snfyhQwHokfK",
        "colab": {
          "base_uri": "https://localhost:8080/"
        },
        "outputId": "854f7fbc-4d85-4839-8061-4790b18216fc"
      },
      "execution_count": null,
      "outputs": [
        {
          "output_type": "execute_result",
          "data": {
            "text/plain": [
              "age               60\n",
              "workclass         60\n",
              "fnlwgt            60\n",
              "education         60\n",
              "education-num     60\n",
              "marital-status    60\n",
              "occupation        60\n",
              "relationship      60\n",
              "race              60\n",
              "sex               60\n",
              "capital-gain      60\n",
              "capital-loss      60\n",
              "hours-per-week    60\n",
              "native-country    60\n",
              "salary            60\n",
              "dtype: int64"
            ]
          },
          "metadata": {},
          "execution_count": 33
        }
      ]
    },
    {
      "cell_type": "markdown",
      "source": [
        "**Задание 9: В этом задании вам предстоит построить ваш первый график. Ответьте на вопрос: людей с каким образованием больше всего представленно в датасете? \\\n",
        "P.S Использовать можно matplotlib, seaborn, plotly**"
      ],
      "metadata": {
        "id": "uT8jJ3b5ikjn"
      }
    },
    {
      "cell_type": "code",
      "source": [
        "# Write code here\n",
        "data['education'].value_counts()\n",
        "\n",
        "plt.plot(data['education'].value_counts())"
      ],
      "metadata": {
        "id": "RugU6jsNjYao",
        "colab": {
          "base_uri": "https://localhost:8080/",
          "height": 587
        },
        "outputId": "df108fbf-2449-402e-ae32-0fbf06b84d0b"
      },
      "execution_count": null,
      "outputs": [
        {
          "output_type": "execute_result",
          "data": {
            "text/plain": [
              "[<matplotlib.lines.Line2D at 0x7f69cb897250>]"
            ]
          },
          "metadata": {},
          "execution_count": 37
        },
        {
          "output_type": "display_data",
          "data": {
            "text/plain": [
              "<Figure size 1296x720 with 1 Axes>"
            ],
            "image/png": "[encoded data removed]"
          },
          "metadata": {
            "needs_background": "light"
          }
        }
      ]
    },
    {
      "cell_type": "markdown",
      "source": [
        "**Задание 10: А теперь давайте посмотрим на распределение возрастов. Сколько возрастных отрезков имеют больше 1600 значений? (Одним \"отрезков\" является один столбец при стандартных настройках seaborn/matplotlib)**"
      ],
      "metadata": {
        "id": "fFHyZAmoj_Q5"
      }
    },
    {
      "cell_type": "code",
      "source": [
        "# Write code here\n",
        "plt.hist(data['age'],bins = [i for i in range(data['age'].min(),data['age'].max(),1)], edgecolor='black')"
      ],
      "metadata": {
        "id": "TGaQzgixj-sP",
        "colab": {
          "base_uri": "https://localhost:8080/",
          "height": 798
        },
        "outputId": "ea347165-ee1e-4381-aa9a-2433fd2e3118"
      },
      "execution_count": null,
      "outputs": [
        {
          "output_type": "execute_result",
          "data": {
            "text/plain": [
              "(array([395., 550., 712., 753., 720., 765., 877., 798., 841., 785., 835.,\n",
              "        867., 813., 861., 888., 828., 875., 886., 876., 898., 858., 827.,\n",
              "        816., 794., 808., 780., 770., 724., 734., 737., 708., 543., 577.,\n",
              "        602., 595., 478., 464., 415., 419., 366., 358., 366., 355., 312.,\n",
              "        300., 258., 230., 208., 178., 150., 151., 120., 108.,  89.,  72.,\n",
              "         67.,  64.,  51.,  45.,  46.,  29.,  23.,  22.,  22.,  20.,  12.,\n",
              "          6.,  10.,   3.,   1.,   1.,   3.]),\n",
              " array([17, 18, 19, 20, 21, 22, 23, 24, 25, 26, 27, 28, 29, 30, 31, 32, 33,\n",
              "        34, 35, 36, 37, 38, 39, 40, 41, 42, 43, 44, 45, 46, 47, 48, 49, 50,\n",
              "        51, 52, 53, 54, 55, 56, 57, 58, 59, 60, 61, 62, 63, 64, 65, 66, 67,\n",
              "        68, 69, 70, 71, 72, 73, 74, 75, 76, 77, 78, 79, 80, 81, 82, 83, 84,\n",
              "        85, 86, 87, 88, 89]),\n",
              " <a list of 72 Patch objects>)"
            ]
          },
          "metadata": {},
          "execution_count": 47
        },
        {
          "output_type": "display_data",
          "data": {
            "text/plain": [
              "<Figure size 1296x720 with 1 Axes>"
            ],
            "image/png": "[encoded data removed]"
          },
          "metadata": {
            "needs_background": "light"
          }
        }
      ]
    }
  ]
}